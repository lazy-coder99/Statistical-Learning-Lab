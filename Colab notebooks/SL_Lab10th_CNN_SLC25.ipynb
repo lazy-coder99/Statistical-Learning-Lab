{
  "nbformat": 4,
  "nbformat_minor": 0,
  "metadata": {
    "colab": {
      "provenance": []
    },
    "kernelspec": {
      "name": "python3",
      "display_name": "Python 3"
    },
    "language_info": {
      "name": "python"
    }
  },
  "cells": [
    {
      "cell_type": "code",
      "execution_count": null,
      "metadata": {
        "id": "dd859gRx4MDH"
      },
      "outputs": [],
      "source": [
        "import numpy as np\n",
        "import tensorflow as tf\n",
        "import matplotlib.pyplot as plt\n",
        "import seaborn as sns\n",
        "from tensorflow.keras.models import Sequential\n",
        "from tensorflow.keras.layers import Conv2D, MaxPooling2D, Flatten, Dense, Dropout\n",
        "from tensorflow.keras.utils import to_categorical\n",
        "from sklearn.metrics import confusion_matrix, classification_report, roc_curve, auc\n",
        "from tensorflow.keras.datasets import mnist\n"
      ]
    },
    {
      "cell_type": "code",
      "source": [
        "# Load Dataset\n",
        "(X_train, y_train), (X_test, y_test) = mnist.load_data()\n"
      ],
      "metadata": {
        "colab": {
          "base_uri": "https://localhost:8080/"
        },
        "id": "QrUaILMY5Kp7",
        "outputId": "58f88319-8a46-470a-fcb5-c5d6c7898fec"
      },
      "execution_count": null,
      "outputs": [
        {
          "output_type": "stream",
          "name": "stdout",
          "text": [
            "Downloading data from https://storage.googleapis.com/tensorflow/tf-keras-datasets/mnist.npz\n",
            "\u001b[1m11490434/11490434\u001b[0m \u001b[32m━━━━━━━━━━━━━━━━━━━━\u001b[0m\u001b[37m\u001b[0m \u001b[1m0s\u001b[0m 0us/step\n"
          ]
        }
      ]
    },
    {
      "cell_type": "code",
      "source": [
        "X_train.shape"
      ],
      "metadata": {
        "colab": {
          "base_uri": "https://localhost:8080/"
        },
        "id": "d5eR6qg-6CTw",
        "outputId": "2114dd85-8f3b-4a8a-ab58-8dae279db3a8"
      },
      "execution_count": null,
      "outputs": [
        {
          "output_type": "execute_result",
          "data": {
            "text/plain": [
              "(60000, 28, 28)"
            ]
          },
          "metadata": {},
          "execution_count": 4
        }
      ]
    },
    {
      "cell_type": "code",
      "source": [
        "X_test.shape"
      ],
      "metadata": {
        "colab": {
          "base_uri": "https://localhost:8080/"
        },
        "id": "vpNd507r6FgZ",
        "outputId": "f77cb5d4-719b-4c09-b626-3f34fd4538dc"
      },
      "execution_count": null,
      "outputs": [
        {
          "output_type": "execute_result",
          "data": {
            "text/plain": [
              "(10000, 28, 28)"
            ]
          },
          "metadata": {},
          "execution_count": 5
        }
      ]
    },
    {
      "cell_type": "code",
      "source": [
        "plt.imshow(X_train[5].reshape(28,28),cmap='gray')\n",
        "plt.title(f\"Label:{y_train[5]}\")\n",
        "plt.axis('off')\n",
        "plt.show()"
      ],
      "metadata": {
        "colab": {
          "base_uri": "https://localhost:8080/",
          "height": 428
        },
        "id": "lJKRwMVP6Ifr",
        "outputId": "c75f6a66-ff24-4862-f82a-99634aa0deb9"
      },
      "execution_count": null,
      "outputs": [
        {
          "output_type": "display_data",
          "data": {
            "text/plain": [
              "<Figure size 640x480 with 1 Axes>"
            ],
            "image/png": "[encoded data removed]"
          },
          "metadata": {}
        }
      ]
    },
    {
      "cell_type": "code",
      "source": [
        "# Normalize the data\n",
        "X_train , X_test = X_train / 255.0 , X_test/255.0"
      ],
      "metadata": {
        "id": "AjyAb4ut6m8G"
      },
      "execution_count": null,
      "outputs": []
    },
    {
      "cell_type": "code",
      "source": [
        "# Reshape to add a single channel for CNN\n",
        "X_train = X_train.reshape(-1, 28,28,1)\n",
        "X_test = X_test.reshape(-1,28,28,1)"
      ],
      "metadata": {
        "id": "jQKMKwWz7xFo"
      },
      "execution_count": null,
      "outputs": []
    },
    {
      "cell_type": "code",
      "source": [
        "# One hot encode labels\n",
        "y_train_cat = to_categorical(y_train, num_classes = 10)\n",
        "y_test_cat = to_categorical(y_test, num_classes = 10)"
      ],
      "metadata": {
        "id": "xG43ahX28CF4"
      },
      "execution_count": null,
      "outputs": []
    },
    {
      "cell_type": "code",
      "source": [
        "# Split validation dfata from training set\n",
        "from sklearn.model_selection import train_test_split\n",
        "X_train, X_val , y_train_cat , y_val_cat , y_train , y_val = train_test_split(\n",
        "     X_train , y_train_cat , y_train , test_size = 0.1 , random_state = 42\n",
        ")"
      ],
      "metadata": {
        "id": "lvZBRYqF8Uf8"
      },
      "execution_count": null,
      "outputs": []
    },
    {
      "cell_type": "code",
      "source": [
        "# Build 2D CNN model\n",
        "model = Sequential([\n",
        "    Conv2D(32,(3,3), activation='relu', input_shape=(28,28,1)),\n",
        "    MaxPooling2D((2,2)),\n",
        "    Conv2D(64,(3,3), activation='relu'),\n",
        "    MaxPooling2D((2,2)),\n",
        "    Flatten(),\n",
        "    Dense(128, activation='relu'), # Fully connected layer\n",
        "    Dropout(0.5),\n",
        "    Dense(10, activation='softmax')\n",
        "])\n",
        "# compile\n",
        "model.compile(optimizer='adam',loss='categorical_crossentropy',metrics=['accuracy'])\n"
      ],
      "metadata": {
        "colab": {
          "base_uri": "https://localhost:8080/"
        },
        "id": "jpqp_3VZ9Jfp",
        "outputId": "d62fd80d-854a-4915-dacf-c827d47911b2"
      },
      "execution_count": null,
      "outputs": [
        {
          "output_type": "stream",
          "name": "stderr",
          "text": [
            "/usr/local/lib/python3.11/dist-packages/keras/src/layers/convolutional/base_conv.py:107: UserWarning: Do not pass an `input_shape`/`input_dim` argument to a layer. When using Sequential models, prefer using an `Input(shape)` object as the first layer in the model instead.\n",
            "  super().__init__(activity_regularizer=activity_regularizer, **kwargs)\n"
          ]
        }
      ]
    },
    {
      "cell_type": "code",
      "source": [
        "import time\n",
        "start_time = time.time()\n",
        "history = model.fit(X_train, y_train_cat, validation_data=(X_val,y_val_cat),epochs=2, batch_size = 32 , verbose=1 )\n",
        "end_time = time.time()\n",
        "training_time = end_time - start_time\n",
        "print(f\"Time taken for convergence: {training_time:.2f} seconds \"  )"
      ],
      "metadata": {
        "colab": {
          "base_uri": "https://localhost:8080/"
        },
        "id": "UrLG5d_-91n2",
        "outputId": "7aafbf25-20cf-4e1b-b411-9e6ba973a93f"
      },
      "execution_count": null,
      "outputs": [
        {
          "output_type": "stream",
          "name": "stdout",
          "text": [
            "Epoch 1/2\n",
            "\u001b[1m1688/1688\u001b[0m \u001b[32m━━━━━━━━━━━━━━━━━━━━\u001b[0m\u001b[37m\u001b[0m \u001b[1m60s\u001b[0m 34ms/step - accuracy: 0.8522 - loss: 0.4646 - val_accuracy: 0.9843 - val_loss: 0.0549\n",
            "Epoch 2/2\n",
            "\u001b[1m1688/1688\u001b[0m \u001b[32m━━━━━━━━━━━━━━━━━━━━\u001b[0m\u001b[37m\u001b[0m \u001b[1m55s\u001b[0m 32ms/step - accuracy: 0.9750 - loss: 0.0849 - val_accuracy: 0.9883 - val_loss: 0.0381\n",
            "Time taken for convergence: 142.58 seconds \n"
          ]
        }
      ]
    },
    {
      "cell_type": "code",
      "source": [
        "# EValuate on test data\n",
        "test_loss , test_accuracy = model.evaluate(X_test, y_test_cat)"
      ],
      "metadata": {
        "colab": {
          "base_uri": "https://localhost:8080/"
        },
        "id": "yBjsyO0s_rdU",
        "outputId": "00f16f99-e773-4c31-97d1-248e18a73cf1"
      },
      "execution_count": null,
      "outputs": [
        {
          "output_type": "stream",
          "name": "stdout",
          "text": [
            "\u001b[1m313/313\u001b[0m \u001b[32m━━━━━━━━━━━━━━━━━━━━\u001b[0m\u001b[37m\u001b[0m \u001b[1m4s\u001b[0m 12ms/step - accuracy: 0.9860 - loss: 0.0429\n"
          ]
        }
      ]
    },
    {
      "cell_type": "code",
      "source": [
        "#Predictions\n",
        "y_pred_prob = model.predict(X_test)\n",
        "y_pred = np.argmax(y_pred_prob, axis=1)"
      ],
      "metadata": {
        "colab": {
          "base_uri": "https://localhost:8080/"
        },
        "id": "QoNw_1RvA0DJ",
        "outputId": "df381f90-4128-4f83-e700-8d04182c701c"
      },
      "execution_count": null,
      "outputs": [
        {
          "output_type": "stream",
          "name": "stdout",
          "text": [
            "\u001b[1m313/313\u001b[0m \u001b[32m━━━━━━━━━━━━━━━━━━━━\u001b[0m\u001b[37m\u001b[0m \u001b[1m3s\u001b[0m 10ms/step\n"
          ]
        }
      ]
    },
    {
      "cell_type": "code",
      "source": [
        "y_pred_prob[0]"
      ],
      "metadata": {
        "colab": {
          "base_uri": "https://localhost:8080/"
        },
        "id": "l_bOH6waBFWG",
        "outputId": "f14144ba-b655-458a-8599-ade1a17cf7ca"
      },
      "execution_count": null,
      "outputs": [
        {
          "output_type": "execute_result",
          "data": {
            "text/plain": [
              "array([7.1401574e-10, 3.9684494e-08, 7.4549882e-07, 1.1682530e-06,\n",
              "       5.5690473e-11, 6.5681555e-10, 2.0854758e-14, 9.9999779e-01,\n",
              "       2.4398061e-10, 1.9313261e-07], dtype=float32)"
            ]
          },
          "metadata": {},
          "execution_count": 21
        }
      ]
    },
    {
      "cell_type": "code",
      "source": [
        "y_pred[0]"
      ],
      "metadata": {
        "colab": {
          "base_uri": "https://localhost:8080/"
        },
        "id": "xiS0EXAfBH4W",
        "outputId": "ceb853b3-7bb8-4307-aa20-2bc330add8be"
      },
      "execution_count": null,
      "outputs": [
        {
          "output_type": "execute_result",
          "data": {
            "text/plain": [
              "np.int64(7)"
            ]
          },
          "metadata": {},
          "execution_count": 22
        }
      ]
    },
    {
      "cell_type": "code",
      "source": [
        "y_test[0]"
      ],
      "metadata": {
        "colab": {
          "base_uri": "https://localhost:8080/"
        },
        "id": "0lgozT78BTte",
        "outputId": "95e5afe8-ce4a-48b5-dc30-3fc3e72f0685"
      },
      "execution_count": null,
      "outputs": [
        {
          "output_type": "execute_result",
          "data": {
            "text/plain": [
              "np.uint8(7)"
            ]
          },
          "metadata": {},
          "execution_count": 23
        }
      ]
    },
    {
      "cell_type": "code",
      "source": [
        "# Confusion Matrix\n",
        "conf_matrix = confusion_matrix(y_test, y_pred)\n",
        "\n",
        "# Classification report ( accuracy , precision , recall , f1-score)\n",
        "report = classification_report(y_test, y_pred, output_dict = True)"
      ],
      "metadata": {
        "id": "EJtyVeP3BZOF"
      },
      "execution_count": null,
      "outputs": []
    },
    {
      "cell_type": "code",
      "source": [
        "conf_matrix"
      ],
      "metadata": {
        "colab": {
          "base_uri": "https://localhost:8080/"
        },
        "id": "9qh_Tr76BsrM",
        "outputId": "ba2ced7d-4c61-490a-fd6e-52101264b559"
      },
      "execution_count": null,
      "outputs": [
        {
          "output_type": "execute_result",
          "data": {
            "text/plain": [
              "array([[ 975,    0,    1,    0,    0,    1,    2,    1,    0,    0],\n",
              "       [   0, 1131,    1,    2,    0,    0,    1,    0,    0,    0],\n",
              "       [   3,    1, 1025,    1,    0,    0,    0,    2,    0,    0],\n",
              "       [   0,    0,    3, 1000,    0,    2,    0,    3,    1,    1],\n",
              "       [   0,    0,    0,    0,  976,    0,    1,    0,    0,    5],\n",
              "       [   1,    0,    0,    7,    0,  879,    1,    1,    0,    3],\n",
              "       [   7,    3,    0,    0,    1,    6,  941,    0,    0,    0],\n",
              "       [   0,    2,    6,    3,    0,    1,    0, 1010,    0,    6],\n",
              "       [   5,    0,    3,    1,    2,    3,    1,    2,  952,    5],\n",
              "       [   2,    3,    0,    1,    3,    2,    0,    0,    0,  998]])"
            ]
          },
          "metadata": {},
          "execution_count": 26
        }
      ]
    },
    {
      "cell_type": "code",
      "source": [
        "report"
      ],
      "metadata": {
        "colab": {
          "base_uri": "https://localhost:8080/"
        },
        "id": "I1Y-JBmLBzU3",
        "outputId": "82849e40-edc1-4de1-c403-e3c1b3e055f7"
      },
      "execution_count": null,
      "outputs": [
        {
          "output_type": "execute_result",
          "data": {
            "text/plain": [
              "{'0': {'precision': 0.9818731117824774,\n",
              "  'recall': 0.9948979591836735,\n",
              "  'f1-score': 0.988342625443487,\n",
              "  'support': 980.0},\n",
              " '1': {'precision': 0.9921052631578947,\n",
              "  'recall': 0.9964757709251101,\n",
              "  'f1-score': 0.9942857142857143,\n",
              "  'support': 1135.0},\n",
              " '2': {'precision': 0.9865255052935515,\n",
              "  'recall': 0.9932170542635659,\n",
              "  'f1-score': 0.9898599710284887,\n",
              "  'support': 1032.0},\n",
              " '3': {'precision': 0.9852216748768473,\n",
              "  'recall': 0.9900990099009901,\n",
              "  'f1-score': 0.9876543209876543,\n",
              "  'support': 1010.0},\n",
              " '4': {'precision': 0.9938900203665988,\n",
              "  'recall': 0.9938900203665988,\n",
              "  'f1-score': 0.9938900203665988,\n",
              "  'support': 982.0},\n",
              " '5': {'precision': 0.9832214765100671,\n",
              "  'recall': 0.9854260089686099,\n",
              "  'f1-score': 0.9843225083986562,\n",
              "  'support': 892.0},\n",
              " '6': {'precision': 0.9936642027455121,\n",
              "  'recall': 0.9822546972860126,\n",
              "  'f1-score': 0.9879265091863517,\n",
              "  'support': 958.0},\n",
              " '7': {'precision': 0.9911678115799804,\n",
              "  'recall': 0.9824902723735408,\n",
              "  'f1-score': 0.986809965803615,\n",
              "  'support': 1028.0},\n",
              " '8': {'precision': 0.9989506820566632,\n",
              "  'recall': 0.9774127310061602,\n",
              "  'f1-score': 0.9880643487285937,\n",
              "  'support': 974.0},\n",
              " '9': {'precision': 0.9803536345776032,\n",
              "  'recall': 0.9890981169474727,\n",
              "  'f1-score': 0.9847064627528367,\n",
              "  'support': 1009.0},\n",
              " 'accuracy': 0.9887,\n",
              " 'macro avg': {'precision': 0.9886973382947197,\n",
              "  'recall': 0.9885261641221733,\n",
              "  'f1-score': 0.9885862446981996,\n",
              "  'support': 10000.0},\n",
              " 'weighted avg': {'precision': 0.9887482491512992,\n",
              "  'recall': 0.9887,\n",
              "  'f1-score': 0.988698982766534,\n",
              "  'support': 10000.0}}"
            ]
          },
          "metadata": {},
          "execution_count": 27
        }
      ]
    },
    {
      "cell_type": "code",
      "source": [
        "\n",
        "\n",
        "plt.figure(figsize=(8, 6))\n",
        "sns.heatmap(conf_matrix, annot=True, fmt='d', cmap='Blues', xticklabels=range(10), yticklabels=range(10))\n",
        "plt.xlabel('Predicted Labels')\n",
        "plt.ylabel('True Labels')\n",
        "plt.title('Confusion Matrix')\n",
        "plt.show()\n",
        "\n"
      ],
      "metadata": {
        "colab": {
          "base_uri": "https://localhost:8080/",
          "height": 564
        },
        "id": "DNlGnvVSB6df",
        "outputId": "f8a84e1e-429c-41d6-a709-c8505c9f66fb"
      },
      "execution_count": null,
      "outputs": [
        {
          "output_type": "display_data",
          "data": {
            "text/plain": [
              "<Figure size 800x600 with 2 Axes>"
            ],
            "image/png": "[encoded data removed]"
          },
          "metadata": {}
        }
      ]
    },
    {
      "cell_type": "code",
      "source": [],
      "metadata": {
        "id": "ORm84F8GCLg-"
      },
      "execution_count": null,
      "outputs": []
    }
  ]
}