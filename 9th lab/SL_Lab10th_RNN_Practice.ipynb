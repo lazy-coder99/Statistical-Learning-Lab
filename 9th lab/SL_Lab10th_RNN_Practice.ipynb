{
  "nbformat": 4,
  "nbformat_minor": 0,
  "metadata": {
    "colab": {
      "provenance": [],
      "gpuType": "T4"
    },
    "kernelspec": {
      "name": "python3",
      "display_name": "Python 3"
    },
    "language_info": {
      "name": "python"
    },
    "accelerator": "GPU"
  },
  "cells": [
    {
      "cell_type": "code",
      "execution_count": null,
      "metadata": {
        "id": "nXkdpyKUelMV"
      },
      "outputs": [],
      "source": [
        "from datetime import date\n",
        "import pandas as pd\n",
        "import yfinance as yf\n",
        "import matplotlib.pyplot as plt\n",
        "import numpy as np"
      ]
    },
    {
      "cell_type": "code",
      "source": [
        "# Data Selection and modify start and end date\n",
        "train_howmanyyears_begin = 3\n",
        "train_howmanymonths_end = 1\n",
        "today = date.today()\n",
        "TRAIN_START_DATE = date(today.year - train_howmanyyears_begin,today.month, today.day).isoformat()\n",
        "TRAIN_END_DATE = date(today.year ,today.month - train_howmanymonths_end, today.day).isoformat()\n",
        "\n",
        "test_howmanymonths_begin = 1\n",
        "TEST_START_DATE = date(today.year ,today.month - test_howmanymonths_begin, today.day).isoformat()\n",
        "TEST_END_DATE = today.isoformat()\n",
        "\n"
      ],
      "metadata": {
        "id": "FdvlR73wgJ8S"
      },
      "execution_count": null,
      "outputs": []
    },
    {
      "cell_type": "code",
      "source": [
        "print(TRAIN_START_DATE)\n",
        "print(TRAIN_END_DATE)\n",
        "print(TEST_START_DATE)\n",
        "print(TEST_END_DATE)"
      ],
      "metadata": {
        "colab": {
          "base_uri": "https://localhost:8080/"
        },
        "id": "QKJketxjhZc8",
        "outputId": "e181b045-6077-4212-e6c8-231602aacd6b"
      },
      "execution_count": null,
      "outputs": [
        {
          "output_type": "stream",
          "name": "stdout",
          "text": [
            "2022-03-25\n",
            "2025-02-25\n",
            "2025-02-25\n",
            "2025-03-25\n"
          ]
        }
      ]
    },
    {
      "cell_type": "code",
      "source": [
        "# LOda the training data\n",
        "whichstock = 'TATASTEEL.NS'\n",
        "data_train = yf.download(whichstock,start = TRAIN_START_DATE , end = TRAIN_END_DATE)"
      ],
      "metadata": {
        "colab": {
          "base_uri": "https://localhost:8080/"
        },
        "id": "K99F6MhrhbTn",
        "outputId": "a3dac038-fa3c-421d-a5f9-a78dcaac91dd"
      },
      "execution_count": null,
      "outputs": [
        {
          "output_type": "stream",
          "name": "stdout",
          "text": [
            "YF.download() has changed argument auto_adjust default to True\n"
          ]
        },
        {
          "output_type": "stream",
          "name": "stderr",
          "text": [
            "\r[*********************100%***********************]  1 of 1 completed\n"
          ]
        }
      ]
    },
    {
      "cell_type": "code",
      "source": [
        "\n",
        "print(data_train.columns)"
      ],
      "metadata": {
        "colab": {
          "base_uri": "https://localhost:8080/"
        },
        "id": "qR6XU1QyhnL4",
        "outputId": "38515b4b-5642-4b96-b2a6-841f39581e6f"
      },
      "execution_count": null,
      "outputs": [
        {
          "output_type": "stream",
          "name": "stdout",
          "text": [
            "MultiIndex([( 'Close', 'TATASTEEL.NS'),\n",
            "            (  'High', 'TATASTEEL.NS'),\n",
            "            (   'Low', 'TATASTEEL.NS'),\n",
            "            (  'Open', 'TATASTEEL.NS'),\n",
            "            ('Volume', 'TATASTEEL.NS')],\n",
            "           names=['Price', 'Ticker'])\n"
          ]
        }
      ]
    },
    {
      "cell_type": "code",
      "source": [
        "data_train.head()"
      ],
      "metadata": {
        "id": "TVNIzLfDjhEV"
      },
      "execution_count": null,
      "outputs": []
    },
    {
      "cell_type": "code",
      "source": [
        "data_train.reset_index(inplace=True)"
      ],
      "metadata": {
        "id": "ACiBl1k2j6m1"
      },
      "execution_count": null,
      "outputs": []
    },
    {
      "cell_type": "code",
      "source": [
        "data_train['Date'] = pd.to_datetime(data_train['Date'])"
      ],
      "metadata": {
        "id": "TpeU9H-3kB1A"
      },
      "execution_count": null,
      "outputs": []
    },
    {
      "cell_type": "code",
      "source": [
        "data_train.info()"
      ],
      "metadata": {
        "id": "u1ZTCk32kWcx"
      },
      "execution_count": null,
      "outputs": []
    },
    {
      "cell_type": "code",
      "source": [
        "data_train.shape"
      ],
      "metadata": {
        "colab": {
          "base_uri": "https://localhost:8080/"
        },
        "id": "YGEvIpPekbit",
        "outputId": "d38e0bbb-ee12-4379-e0d5-f2b754db0e90"
      },
      "execution_count": null,
      "outputs": [
        {
          "output_type": "execute_result",
          "data": {
            "text/plain": [
              "(723, 6)"
            ]
          },
          "metadata": {},
          "execution_count": 18
        }
      ]
    },
    {
      "cell_type": "code",
      "source": [
        "# Load test data\n",
        "data_test =  yf.download(whichstock,start = TEST_START_DATE , end = TEST_END_DATE)\n",
        "data_test.reset_index(inplace=True)\n",
        "data_test['Date'] = pd.to_datetime(data_test['Date'])"
      ],
      "metadata": {
        "colab": {
          "base_uri": "https://localhost:8080/"
        },
        "id": "etgj0Noyk1-6",
        "outputId": "d8dea5a2-d8c5-43b9-fa8f-5e5bfb73c964"
      },
      "execution_count": null,
      "outputs": [
        {
          "output_type": "stream",
          "name": "stderr",
          "text": [
            "\r[*********************100%***********************]  1 of 1 completed\n"
          ]
        }
      ]
    },
    {
      "cell_type": "code",
      "source": [
        "data_test.head()"
      ],
      "metadata": {
        "colab": {
          "base_uri": "https://localhost:8080/",
          "height": 237
        },
        "id": "j6Cb_oTflqy3",
        "outputId": "0dd02f23-6893-447f-c9cd-c3003e86c95c"
      },
      "execution_count": null,
      "outputs": [
        {
          "output_type": "execute_result",
          "data": {
            "text/plain": [
              "Price        Date        Close         High          Low         Open  \\\n",
              "Ticker            TATASTEEL.NS TATASTEEL.NS TATASTEEL.NS TATASTEEL.NS   \n",
              "0      2025-02-25   137.070007   139.350006   136.699997   138.490005   \n",
              "1      2025-02-27   138.690002   138.990005   135.880005   137.210007   \n",
              "2      2025-02-28   137.199997   137.800003   134.059998   137.800003   \n",
              "3      2025-03-03   138.570007   139.050003   134.309998   137.000000   \n",
              "4      2025-03-04   139.339996   140.940002   135.809998   136.149994   \n",
              "\n",
              "Price        Volume  \n",
              "Ticker TATASTEEL.NS  \n",
              "0          23575603  \n",
              "1          30747044  \n",
              "2          45540594  \n",
              "3          31154401  \n",
              "4          28634645  "
            ],
            "text/html": [
              "\n",
              "  <div id=\"df-917ecc38-1b5e-4223-8a46-e83d4fb70dd0\" class=\"colab-df-container\">\n",
              "    <div>\n",
              "<style scoped>\n",
              "    .dataframe tbody tr th:only-of-type {\n",
              "        vertical-align: middle;\n",
              "    }\n",
              "\n",
              "    .dataframe tbody tr th {\n",
              "        vertical-align: top;\n",
              "    }\n",
              "\n",
              "    .dataframe thead tr th {\n",
              "        text-align: left;\n",
              "    }\n",
              "</style>\n",
              "<table border=\"1\" class=\"dataframe\">\n",
              "  <thead>\n",
              "    <tr>\n",
              "      <th>Price</th>\n",
              "      <th>Date</th>\n",
              "      <th>Close</th>\n",
              "      <th>High</th>\n",
              "      <th>Low</th>\n",
              "      <th>Open</th>\n",
              "      <th>Volume</th>\n",
              "    </tr>\n",
              "    <tr>\n",
              "      <th>Ticker</th>\n",
              "      <th></th>\n",
              "      <th>TATASTEEL.NS</th>\n",
              "      <th>TATASTEEL.NS</th>\n",
              "      <th>TATASTEEL.NS</th>\n",
              "      <th>TATASTEEL.NS</th>\n",
              "      <th>TATASTEEL.NS</th>\n",
              "    </tr>\n",
              "  </thead>\n",
              "  <tbody>\n",
              "    <tr>\n",
              "      <th>0</th>\n",
              "      <td>2025-02-25</td>\n",
              "      <td>137.070007</td>\n",
              "      <td>139.350006</td>\n",
              "      <td>136.699997</td>\n",
              "      <td>138.490005</td>\n",
              "      <td>23575603</td>\n",
              "    </tr>\n",
              "    <tr>\n",
              "      <th>1</th>\n",
              "      <td>2025-02-27</td>\n",
              "      <td>138.690002</td>\n",
              "      <td>138.990005</td>\n",
              "      <td>135.880005</td>\n",
              "      <td>137.210007</td>\n",
              "      <td>30747044</td>\n",
              "    </tr>\n",
              "    <tr>\n",
              "      <th>2</th>\n",
              "      <td>2025-02-28</td>\n",
              "      <td>137.199997</td>\n",
              "      <td>137.800003</td>\n",
              "      <td>134.059998</td>\n",
              "      <td>137.800003</td>\n",
              "      <td>45540594</td>\n",
              "    </tr>\n",
              "    <tr>\n",
              "      <th>3</th>\n",
              "      <td>2025-03-03</td>\n",
              "      <td>138.570007</td>\n",
              "      <td>139.050003</td>\n",
              "      <td>134.309998</td>\n",
              "      <td>137.000000</td>\n",
              "      <td>31154401</td>\n",
              "    </tr>\n",
              "    <tr>\n",
              "      <th>4</th>\n",
              "      <td>2025-03-04</td>\n",
              "      <td>139.339996</td>\n",
              "      <td>140.940002</td>\n",
              "      <td>135.809998</td>\n",
              "      <td>136.149994</td>\n",
              "      <td>28634645</td>\n",
              "    </tr>\n",
              "  </tbody>\n",
              "</table>\n",
              "</div>\n",
              "    <div class=\"colab-df-buttons\">\n",
              "\n",
              "  <div class=\"colab-df-container\">\n",
              "    <button class=\"colab-df-convert\" onclick=\"convertToInteractive('df-917ecc38-1b5e-4223-8a46-e83d4fb70dd0')\"\n",
              "            title=\"Convert this dataframe to an interactive table.\"\n",
              "            style=\"display:none;\">\n",
              "\n",
              "  <svg xmlns=\"http://www.w3.org/2000/svg\" height=\"24px\" viewBox=\"0 -960 960 960\">\n",
              "    <path d=\"M120-120v-720h720v720H120Zm60-500h600v-160H180v160Zm220 220h160v-160H400v160Zm0 220h160v-160H400v160ZM180-400h160v-160H180v160Zm440 0h160v-160H620v160ZM180-180h160v-160H180v160Zm440 0h160v-160H620v160Z\"/>\n",
              "  </svg>\n",
              "    </button>\n",
              "\n",
              "  <style>\n",
              "    .colab-df-container {\n",
              "      display:flex;\n",
              "      gap: 12px;\n",
              "    }\n",
              "\n",
              "    .colab-df-convert {\n",
              "      background-color: #E8F0FE;\n",
              "      border: none;\n",
              "      border-radius: 50%;\n",
              "      cursor: pointer;\n",
              "      display: none;\n",
              "      fill: #1967D2;\n",
              "      height: 32px;\n",
              "      padding: 0 0 0 0;\n",
              "      width: 32px;\n",
              "    }\n",
              "\n",
              "    .colab-df-convert:hover {\n",
              "      background-color: #E2EBFA;\n",
              "      box-shadow: 0px 1px 2px rgba(60, 64, 67, 0.3), 0px 1px 3px 1px rgba(60, 64, 67, 0.15);\n",
              "      fill: #174EA6;\n",
              "    }\n",
              "\n",
              "    .colab-df-buttons div {\n",
              "      margin-bottom: 4px;\n",
              "    }\n",
              "\n",
              "    [theme=dark] .colab-df-convert {\n",
              "      background-color: #3B4455;\n",
              "      fill: #D2E3FC;\n",
              "    }\n",
              "\n",
              "    [theme=dark] .colab-df-convert:hover {\n",
              "      background-color: #434B5C;\n",
              "      box-shadow: 0px 1px 3px 1px rgba(0, 0, 0, 0.15);\n",
              "      filter: drop-shadow(0px 1px 2px rgba(0, 0, 0, 0.3));\n",
              "      fill: #FFFFFF;\n",
              "    }\n",
              "  </style>\n",
              "\n",
              "    <script>\n",
              "      const buttonEl =\n",
              "        document.querySelector('#df-917ecc38-1b5e-4223-8a46-e83d4fb70dd0 button.colab-df-convert');\n",
              "      buttonEl.style.display =\n",
              "        google.colab.kernel.accessAllowed ? 'block' : 'none';\n",
              "\n",
              "      async function convertToInteractive(key) {\n",
              "        const element = document.querySelector('#df-917ecc38-1b5e-4223-8a46-e83d4fb70dd0');\n",
              "        const dataTable =\n",
              "          await google.colab.kernel.invokeFunction('convertToInteractive',\n",
              "                                                    [key], {});\n",
              "        if (!dataTable) return;\n",
              "\n",
              "        const docLinkHtml = 'Like what you see? Visit the ' +\n",
              "          '<a target=\"_blank\" href=https://colab.research.google.com/notebooks/data_table.ipynb>data table notebook</a>'\n",
              "          + ' to learn more about interactive tables.';\n",
              "        element.innerHTML = '';\n",
              "        dataTable['output_type'] = 'display_data';\n",
              "        await google.colab.output.renderOutput(dataTable, element);\n",
              "        const docLink = document.createElement('div');\n",
              "        docLink.innerHTML = docLinkHtml;\n",
              "        element.appendChild(docLink);\n",
              "      }\n",
              "    </script>\n",
              "  </div>\n",
              "\n",
              "\n",
              "<div id=\"df-87bfc279-9c0f-429d-8411-bbb4b06a2532\">\n",
              "  <button class=\"colab-df-quickchart\" onclick=\"quickchart('df-87bfc279-9c0f-429d-8411-bbb4b06a2532')\"\n",
              "            title=\"Suggest charts\"\n",
              "            style=\"display:none;\">\n",
              "\n",
              "<svg xmlns=\"http://www.w3.org/2000/svg\" height=\"24px\"viewBox=\"0 0 24 24\"\n",
              "     width=\"24px\">\n",
              "    <g>\n",
              "        <path d=\"M19 3H5c-1.1 0-2 .9-2 2v14c0 1.1.9 2 2 2h14c1.1 0 2-.9 2-2V5c0-1.1-.9-2-2-2zM9 17H7v-7h2v7zm4 0h-2V7h2v10zm4 0h-2v-4h2v4z\"/>\n",
              "    </g>\n",
              "</svg>\n",
              "  </button>\n",
              "\n",
              "<style>\n",
              "  .colab-df-quickchart {\n",
              "      --bg-color: #E8F0FE;\n",
              "      --fill-color: #1967D2;\n",
              "      --hover-bg-color: #E2EBFA;\n",
              "      --hover-fill-color: #174EA6;\n",
              "      --disabled-fill-color: #AAA;\n",
              "      --disabled-bg-color: #DDD;\n",
              "  }\n",
              "\n",
              "  [theme=dark] .colab-df-quickchart {\n",
              "      --bg-color: #3B4455;\n",
              "      --fill-color: #D2E3FC;\n",
              "      --hover-bg-color: #434B5C;\n",
              "      --hover-fill-color: #FFFFFF;\n",
              "      --disabled-bg-color: #3B4455;\n",
              "      --disabled-fill-color: #666;\n",
              "  }\n",
              "\n",
              "  .colab-df-quickchart {\n",
              "    background-color: var(--bg-color);\n",
              "    border: none;\n",
              "    border-radius: 50%;\n",
              "    cursor: pointer;\n",
              "    display: none;\n",
              "    fill: var(--fill-color);\n",
              "    height: 32px;\n",
              "    padding: 0;\n",
              "    width: 32px;\n",
              "  }\n",
              "\n",
              "  .colab-df-quickchart:hover {\n",
              "    background-color: var(--hover-bg-color);\n",
              "    box-shadow: 0 1px 2px rgba(60, 64, 67, 0.3), 0 1px 3px 1px rgba(60, 64, 67, 0.15);\n",
              "    fill: var(--button-hover-fill-color);\n",
              "  }\n",
              "\n",
              "  .colab-df-quickchart-complete:disabled,\n",
              "  .colab-df-quickchart-complete:disabled:hover {\n",
              "    background-color: var(--disabled-bg-color);\n",
              "    fill: var(--disabled-fill-color);\n",
              "    box-shadow: none;\n",
              "  }\n",
              "\n",
              "  .colab-df-spinner {\n",
              "    border: 2px solid var(--fill-color);\n",
              "    border-color: transparent;\n",
              "    border-bottom-color: var(--fill-color);\n",
              "    animation:\n",
              "      spin 1s steps(1) infinite;\n",
              "  }\n",
              "\n",
              "  @keyframes spin {\n",
              "    0% {\n",
              "      border-color: transparent;\n",
              "      border-bottom-color: var(--fill-color);\n",
              "      border-left-color: var(--fill-color);\n",
              "    }\n",
              "    20% {\n",
              "      border-color: transparent;\n",
              "      border-left-color: var(--fill-color);\n",
              "      border-top-color: var(--fill-color);\n",
              "    }\n",
              "    30% {\n",
              "      border-color: transparent;\n",
              "      border-left-color: var(--fill-color);\n",
              "      border-top-color: var(--fill-color);\n",
              "      border-right-color: var(--fill-color);\n",
              "    }\n",
              "    40% {\n",
              "      border-color: transparent;\n",
              "      border-right-color: var(--fill-color);\n",
              "      border-top-color: var(--fill-color);\n",
              "    }\n",
              "    60% {\n",
              "      border-color: transparent;\n",
              "      border-right-color: var(--fill-color);\n",
              "    }\n",
              "    80% {\n",
              "      border-color: transparent;\n",
              "      border-right-color: var(--fill-color);\n",
              "      border-bottom-color: var(--fill-color);\n",
              "    }\n",
              "    90% {\n",
              "      border-color: transparent;\n",
              "      border-bottom-color: var(--fill-color);\n",
              "    }\n",
              "  }\n",
              "</style>\n",
              "\n",
              "  <script>\n",
              "    async function quickchart(key) {\n",
              "      const quickchartButtonEl =\n",
              "        document.querySelector('#' + key + ' button');\n",
              "      quickchartButtonEl.disabled = true;  // To prevent multiple clicks.\n",
              "      quickchartButtonEl.classList.add('colab-df-spinner');\n",
              "      try {\n",
              "        const charts = await google.colab.kernel.invokeFunction(\n",
              "            'suggestCharts', [key], {});\n",
              "      } catch (error) {\n",
              "        console.error('Error during call to suggestCharts:', error);\n",
              "      }\n",
              "      quickchartButtonEl.classList.remove('colab-df-spinner');\n",
              "      quickchartButtonEl.classList.add('colab-df-quickchart-complete');\n",
              "    }\n",
              "    (() => {\n",
              "      let quickchartButtonEl =\n",
              "        document.querySelector('#df-87bfc279-9c0f-429d-8411-bbb4b06a2532 button');\n",
              "      quickchartButtonEl.style.display =\n",
              "        google.colab.kernel.accessAllowed ? 'block' : 'none';\n",
              "    })();\n",
              "  </script>\n",
              "</div>\n",
              "\n",
              "    </div>\n",
              "  </div>\n"
            ],
            "application/vnd.google.colaboratory.intrinsic+json": {
              "type": "dataframe",
              "variable_name": "data_test",
              "summary": "{\n  \"name\": \"data_test\",\n  \"rows\": 18,\n  \"fields\": [\n    {\n      \"column\": [\n        \"Date\",\n        \"\"\n      ],\n      \"properties\": {\n        \"dtype\": \"date\",\n        \"min\": \"2025-02-25 00:00:00\",\n        \"max\": \"2025-03-24 00:00:00\",\n        \"num_unique_values\": 18,\n        \"samples\": [\n          \"2025-02-25 00:00:00\",\n          \"2025-02-27 00:00:00\",\n          \"2025-03-10 00:00:00\"\n        ],\n        \"semantic_type\": \"\",\n        \"description\": \"\"\n      }\n    },\n    {\n      \"column\": [\n        \"Close\",\n        \"TATASTEEL.NS\"\n      ],\n      \"properties\": {\n        \"dtype\": \"number\",\n        \"std\": 7.611933044842461,\n        \"min\": 137.07000732421875,\n        \"max\": 159.0399932861328,\n        \"num_unique_values\": 17,\n        \"samples\": [\n          137.07000732421875,\n          138.69000244140625,\n          146.10000610351562\n        ],\n        \"semantic_type\": \"\",\n        \"description\": \"\"\n      }\n    },\n    {\n      \"column\": [\n        \"High\",\n        \"TATASTEEL.NS\"\n      ],\n      \"properties\": {\n        \"dtype\": \"number\",\n        \"std\": 7.746707799852766,\n        \"min\": 137.8000030517578,\n        \"max\": 160.10000610351562,\n        \"num_unique_values\": 18,\n        \"samples\": [\n          139.35000610351562,\n          138.99000549316406,\n          154.24000549316406\n        ],\n        \"semantic_type\": \"\",\n        \"description\": \"\"\n      }\n    },\n    {\n      \"column\": [\n        \"Low\",\n        \"TATASTEEL.NS\"\n      ],\n      \"properties\": {\n        \"dtype\": \"number\",\n        \"std\": 8.371814112709723,\n        \"min\": 134.05999755859375,\n        \"max\": 157.11000061035156,\n        \"num_unique_values\": 18,\n        \"samples\": [\n          136.6999969482422,\n          135.8800048828125,\n          150.41000366210938\n        ],\n        \"semantic_type\": \"\",\n        \"description\": \"\"\n      }\n    },\n    {\n      \"column\": [\n        \"Open\",\n        \"TATASTEEL.NS\"\n      ],\n      \"properties\": {\n        \"dtype\": \"number\",\n        \"std\": 8.292125807939485,\n        \"min\": 136.14999389648438,\n        \"max\": 160.0,\n        \"num_unique_values\": 18,\n        \"samples\": [\n          138.49000549316406,\n          137.2100067138672,\n          151.55999755859375\n        ],\n        \"semantic_type\": \"\",\n        \"description\": \"\"\n      }\n    },\n    {\n      \"column\": [\n        \"Volume\",\n        \"TATASTEEL.NS\"\n      ],\n      \"properties\": {\n        \"dtype\": \"number\",\n        \"std\": 20540515,\n        \"min\": 0,\n        \"max\": 81821791,\n        \"num_unique_values\": 18,\n        \"samples\": [\n          23575603,\n          30747044,\n          54450331\n        ],\n        \"semantic_type\": \"\",\n        \"description\": \"\"\n      }\n    }\n  ]\n}"
            }
          },
          "metadata": {},
          "execution_count": 20
        }
      ]
    },
    {
      "cell_type": "code",
      "source": [
        "plt.figure(figsize = (8,6))\n",
        "plt.plot(data_train['Date'],data_train['Low'],label = 'low',color = 'red')\n",
        "plt.plot(data_train['Date'],data_train['High'],label = 'high',color = 'green')\n",
        "plt.ylabel(\"Stock price in INR\")\n",
        "plt.xlabel(\"Date\")\n",
        "plt.title(f\"High vs low of {whichstock}\")\n",
        "plt.xticks(rotation=90)\n",
        "plt.legend();\n"
      ],
      "metadata": {
        "id": "R3w3eGYslsyT"
      },
      "execution_count": null,
      "outputs": []
    },
    {
      "cell_type": "code",
      "source": [
        "data_train['EMA-50'] = data_train['Open','TATASTEEL.NS'].ewm(span = 50, adjust=False).mean()\n",
        "data_train['EMA-200'] = data_train['Open','TATASTEEL.NS'].ewm(span = 200, adjust=False).mean()"
      ],
      "metadata": {
        "id": "fRDIW7FZmm3K"
      },
      "execution_count": null,
      "outputs": []
    },
    {
      "cell_type": "code",
      "source": [
        "data_train.head()"
      ],
      "metadata": {
        "colab": {
          "base_uri": "https://localhost:8080/",
          "height": 237
        },
        "id": "paG3JW_QnyTU",
        "outputId": "35a68b6e-b959-4109-e85b-1c089c0cba25"
      },
      "execution_count": null,
      "outputs": [
        {
          "output_type": "execute_result",
          "data": {
            "text/plain": [
              "Price        Date        Close         High          Low         Open  \\\n",
              "Ticker            TATASTEEL.NS TATASTEEL.NS TATASTEEL.NS TATASTEEL.NS   \n",
              "0      2022-03-25    56.498829    57.640241    56.270965    57.171861   \n",
              "1      2022-03-28    56.498829    57.176079    56.019896    56.543133   \n",
              "2      2022-03-29    56.317387    56.802649    55.994585    56.711922   \n",
              "3      2022-03-30    55.194962    56.355362    54.855284    56.332157   \n",
              "4      2022-03-31    55.159100    55.718200    54.859502    55.192857   \n",
              "\n",
              "Price        Volume     EMA-50    EMA-200  \n",
              "Ticker TATASTEEL.NS                        \n",
              "0          69457440  57.171861  57.171861  \n",
              "1          46554910  57.147205  57.165605  \n",
              "2          43202370  57.130136  57.161091  \n",
              "3          58483160  57.098842  57.152843  \n",
              "4          40067950  57.024098  57.133341  "
            ],
            "text/html": [
              "\n",
              "  <div id=\"df-c58db764-2dd8-41c3-9531-3341ca7387bf\" class=\"colab-df-container\">\n",
              "    <div>\n",
              "<style scoped>\n",
              "    .dataframe tbody tr th:only-of-type {\n",
              "        vertical-align: middle;\n",
              "    }\n",
              "\n",
              "    .dataframe tbody tr th {\n",
              "        vertical-align: top;\n",
              "    }\n",
              "\n",
              "    .dataframe thead tr th {\n",
              "        text-align: left;\n",
              "    }\n",
              "</style>\n",
              "<table border=\"1\" class=\"dataframe\">\n",
              "  <thead>\n",
              "    <tr>\n",
              "      <th>Price</th>\n",
              "      <th>Date</th>\n",
              "      <th>Close</th>\n",
              "      <th>High</th>\n",
              "      <th>Low</th>\n",
              "      <th>Open</th>\n",
              "      <th>Volume</th>\n",
              "      <th>EMA-50</th>\n",
              "      <th>EMA-200</th>\n",
              "    </tr>\n",
              "    <tr>\n",
              "      <th>Ticker</th>\n",
              "      <th></th>\n",
              "      <th>TATASTEEL.NS</th>\n",
              "      <th>TATASTEEL.NS</th>\n",
              "      <th>TATASTEEL.NS</th>\n",
              "      <th>TATASTEEL.NS</th>\n",
              "      <th>TATASTEEL.NS</th>\n",
              "      <th></th>\n",
              "      <th></th>\n",
              "    </tr>\n",
              "  </thead>\n",
              "  <tbody>\n",
              "    <tr>\n",
              "      <th>0</th>\n",
              "      <td>2022-03-25</td>\n",
              "      <td>56.498829</td>\n",
              "      <td>57.640241</td>\n",
              "      <td>56.270965</td>\n",
              "      <td>57.171861</td>\n",
              "      <td>69457440</td>\n",
              "      <td>57.171861</td>\n",
              "      <td>57.171861</td>\n",
              "    </tr>\n",
              "    <tr>\n",
              "      <th>1</th>\n",
              "      <td>2022-03-28</td>\n",
              "      <td>56.498829</td>\n",
              "      <td>57.176079</td>\n",
              "      <td>56.019896</td>\n",
              "      <td>56.543133</td>\n",
              "      <td>46554910</td>\n",
              "      <td>57.147205</td>\n",
              "      <td>57.165605</td>\n",
              "    </tr>\n",
              "    <tr>\n",
              "      <th>2</th>\n",
              "      <td>2022-03-29</td>\n",
              "      <td>56.317387</td>\n",
              "      <td>56.802649</td>\n",
              "      <td>55.994585</td>\n",
              "      <td>56.711922</td>\n",
              "      <td>43202370</td>\n",
              "      <td>57.130136</td>\n",
              "      <td>57.161091</td>\n",
              "    </tr>\n",
              "    <tr>\n",
              "      <th>3</th>\n",
              "      <td>2022-03-30</td>\n",
              "      <td>55.194962</td>\n",
              "      <td>56.355362</td>\n",
              "      <td>54.855284</td>\n",
              "      <td>56.332157</td>\n",
              "      <td>58483160</td>\n",
              "      <td>57.098842</td>\n",
              "      <td>57.152843</td>\n",
              "    </tr>\n",
              "    <tr>\n",
              "      <th>4</th>\n",
              "      <td>2022-03-31</td>\n",
              "      <td>55.159100</td>\n",
              "      <td>55.718200</td>\n",
              "      <td>54.859502</td>\n",
              "      <td>55.192857</td>\n",
              "      <td>40067950</td>\n",
              "      <td>57.024098</td>\n",
              "      <td>57.133341</td>\n",
              "    </tr>\n",
              "  </tbody>\n",
              "</table>\n",
              "</div>\n",
              "    <div class=\"colab-df-buttons\">\n",
              "\n",
              "  <div class=\"colab-df-container\">\n",
              "    <button class=\"colab-df-convert\" onclick=\"convertToInteractive('df-c58db764-2dd8-41c3-9531-3341ca7387bf')\"\n",
              "            title=\"Convert this dataframe to an interactive table.\"\n",
              "            style=\"display:none;\">\n",
              "\n",
              "  <svg xmlns=\"http://www.w3.org/2000/svg\" height=\"24px\" viewBox=\"0 -960 960 960\">\n",
              "    <path d=\"M120-120v-720h720v720H120Zm60-500h600v-160H180v160Zm220 220h160v-160H400v160Zm0 220h160v-160H400v160ZM180-400h160v-160H180v160Zm440 0h160v-160H620v160ZM180-180h160v-160H180v160Zm440 0h160v-160H620v160Z\"/>\n",
              "  </svg>\n",
              "    </button>\n",
              "\n",
              "  <style>\n",
              "    .colab-df-container {\n",
              "      display:flex;\n",
              "      gap: 12px;\n",
              "    }\n",
              "\n",
              "    .colab-df-convert {\n",
              "      background-color: #E8F0FE;\n",
              "      border: none;\n",
              "      border-radius: 50%;\n",
              "      cursor: pointer;\n",
              "      display: none;\n",
              "      fill: #1967D2;\n",
              "      height: 32px;\n",
              "      padding: 0 0 0 0;\n",
              "      width: 32px;\n",
              "    }\n",
              "\n",
              "    .colab-df-convert:hover {\n",
              "      background-color: #E2EBFA;\n",
              "      box-shadow: 0px 1px 2px rgba(60, 64, 67, 0.3), 0px 1px 3px 1px rgba(60, 64, 67, 0.15);\n",
              "      fill: #174EA6;\n",
              "    }\n",
              "\n",
              "    .colab-df-buttons div {\n",
              "      margin-bottom: 4px;\n",
              "    }\n",
              "\n",
              "    [theme=dark] .colab-df-convert {\n",
              "      background-color: #3B4455;\n",
              "      fill: #D2E3FC;\n",
              "    }\n",
              "\n",
              "    [theme=dark] .colab-df-convert:hover {\n",
              "      background-color: #434B5C;\n",
              "      box-shadow: 0px 1px 3px 1px rgba(0, 0, 0, 0.15);\n",
              "      filter: drop-shadow(0px 1px 2px rgba(0, 0, 0, 0.3));\n",
              "      fill: #FFFFFF;\n",
              "    }\n",
              "  </style>\n",
              "\n",
              "    <script>\n",
              "      const buttonEl =\n",
              "        document.querySelector('#df-c58db764-2dd8-41c3-9531-3341ca7387bf button.colab-df-convert');\n",
              "      buttonEl.style.display =\n",
              "        google.colab.kernel.accessAllowed ? 'block' : 'none';\n",
              "\n",
              "      async function convertToInteractive(key) {\n",
              "        const element = document.querySelector('#df-c58db764-2dd8-41c3-9531-3341ca7387bf');\n",
              "        const dataTable =\n",
              "          await google.colab.kernel.invokeFunction('convertToInteractive',\n",
              "                                                    [key], {});\n",
              "        if (!dataTable) return;\n",
              "\n",
              "        const docLinkHtml = 'Like what you see? Visit the ' +\n",
              "          '<a target=\"_blank\" href=https://colab.research.google.com/notebooks/data_table.ipynb>data table notebook</a>'\n",
              "          + ' to learn more about interactive tables.';\n",
              "        element.innerHTML = '';\n",
              "        dataTable['output_type'] = 'display_data';\n",
              "        await google.colab.output.renderOutput(dataTable, element);\n",
              "        const docLink = document.createElement('div');\n",
              "        docLink.innerHTML = docLinkHtml;\n",
              "        element.appendChild(docLink);\n",
              "      }\n",
              "    </script>\n",
              "  </div>\n",
              "\n",
              "\n",
              "<div id=\"df-0fbd1638-2e34-49be-a37c-91dbe3585ce2\">\n",
              "  <button class=\"colab-df-quickchart\" onclick=\"quickchart('df-0fbd1638-2e34-49be-a37c-91dbe3585ce2')\"\n",
              "            title=\"Suggest charts\"\n",
              "            style=\"display:none;\">\n",
              "\n",
              "<svg xmlns=\"http://www.w3.org/2000/svg\" height=\"24px\"viewBox=\"0 0 24 24\"\n",
              "     width=\"24px\">\n",
              "    <g>\n",
              "        <path d=\"M19 3H5c-1.1 0-2 .9-2 2v14c0 1.1.9 2 2 2h14c1.1 0 2-.9 2-2V5c0-1.1-.9-2-2-2zM9 17H7v-7h2v7zm4 0h-2V7h2v10zm4 0h-2v-4h2v4z\"/>\n",
              "    </g>\n",
              "</svg>\n",
              "  </button>\n",
              "\n",
              "<style>\n",
              "  .colab-df-quickchart {\n",
              "      --bg-color: #E8F0FE;\n",
              "      --fill-color: #1967D2;\n",
              "      --hover-bg-color: #E2EBFA;\n",
              "      --hover-fill-color: #174EA6;\n",
              "      --disabled-fill-color: #AAA;\n",
              "      --disabled-bg-color: #DDD;\n",
              "  }\n",
              "\n",
              "  [theme=dark] .colab-df-quickchart {\n",
              "      --bg-color: #3B4455;\n",
              "      --fill-color: #D2E3FC;\n",
              "      --hover-bg-color: #434B5C;\n",
              "      --hover-fill-color: #FFFFFF;\n",
              "      --disabled-bg-color: #3B4455;\n",
              "      --disabled-fill-color: #666;\n",
              "  }\n",
              "\n",
              "  .colab-df-quickchart {\n",
              "    background-color: var(--bg-color);\n",
              "    border: none;\n",
              "    border-radius: 50%;\n",
              "    cursor: pointer;\n",
              "    display: none;\n",
              "    fill: var(--fill-color);\n",
              "    height: 32px;\n",
              "    padding: 0;\n",
              "    width: 32px;\n",
              "  }\n",
              "\n",
              "  .colab-df-quickchart:hover {\n",
              "    background-color: var(--hover-bg-color);\n",
              "    box-shadow: 0 1px 2px rgba(60, 64, 67, 0.3), 0 1px 3px 1px rgba(60, 64, 67, 0.15);\n",
              "    fill: var(--button-hover-fill-color);\n",
              "  }\n",
              "\n",
              "  .colab-df-quickchart-complete:disabled,\n",
              "  .colab-df-quickchart-complete:disabled:hover {\n",
              "    background-color: var(--disabled-bg-color);\n",
              "    fill: var(--disabled-fill-color);\n",
              "    box-shadow: none;\n",
              "  }\n",
              "\n",
              "  .colab-df-spinner {\n",
              "    border: 2px solid var(--fill-color);\n",
              "    border-color: transparent;\n",
              "    border-bottom-color: var(--fill-color);\n",
              "    animation:\n",
              "      spin 1s steps(1) infinite;\n",
              "  }\n",
              "\n",
              "  @keyframes spin {\n",
              "    0% {\n",
              "      border-color: transparent;\n",
              "      border-bottom-color: var(--fill-color);\n",
              "      border-left-color: var(--fill-color);\n",
              "    }\n",
              "    20% {\n",
              "      border-color: transparent;\n",
              "      border-left-color: var(--fill-color);\n",
              "      border-top-color: var(--fill-color);\n",
              "    }\n",
              "    30% {\n",
              "      border-color: transparent;\n",
              "      border-left-color: var(--fill-color);\n",
              "      border-top-color: var(--fill-color);\n",
              "      border-right-color: var(--fill-color);\n",
              "    }\n",
              "    40% {\n",
              "      border-color: transparent;\n",
              "      border-right-color: var(--fill-color);\n",
              "      border-top-color: var(--fill-color);\n",
              "    }\n",
              "    60% {\n",
              "      border-color: transparent;\n",
              "      border-right-color: var(--fill-color);\n",
              "    }\n",
              "    80% {\n",
              "      border-color: transparent;\n",
              "      border-right-color: var(--fill-color);\n",
              "      border-bottom-color: var(--fill-color);\n",
              "    }\n",
              "    90% {\n",
              "      border-color: transparent;\n",
              "      border-bottom-color: var(--fill-color);\n",
              "    }\n",
              "  }\n",
              "</style>\n",
              "\n",
              "  <script>\n",
              "    async function quickchart(key) {\n",
              "      const quickchartButtonEl =\n",
              "        document.querySelector('#' + key + ' button');\n",
              "      quickchartButtonEl.disabled = true;  // To prevent multiple clicks.\n",
              "      quickchartButtonEl.classList.add('colab-df-spinner');\n",
              "      try {\n",
              "        const charts = await google.colab.kernel.invokeFunction(\n",
              "            'suggestCharts', [key], {});\n",
              "      } catch (error) {\n",
              "        console.error('Error during call to suggestCharts:', error);\n",
              "      }\n",
              "      quickchartButtonEl.classList.remove('colab-df-spinner');\n",
              "      quickchartButtonEl.classList.add('colab-df-quickchart-complete');\n",
              "    }\n",
              "    (() => {\n",
              "      let quickchartButtonEl =\n",
              "        document.querySelector('#df-0fbd1638-2e34-49be-a37c-91dbe3585ce2 button');\n",
              "      quickchartButtonEl.style.display =\n",
              "        google.colab.kernel.accessAllowed ? 'block' : 'none';\n",
              "    })();\n",
              "  </script>\n",
              "</div>\n",
              "\n",
              "    </div>\n",
              "  </div>\n"
            ],
            "application/vnd.google.colaboratory.intrinsic+json": {
              "type": "dataframe",
              "variable_name": "data_train",
              "summary": "{\n  \"name\": \"data_train\",\n  \"rows\": 723,\n  \"fields\": [\n    {\n      \"column\": [\n        \"Date\",\n        \"\"\n      ],\n      \"properties\": {\n        \"dtype\": \"date\",\n        \"min\": \"2022-03-25 00:00:00\",\n        \"max\": \"2025-02-24 00:00:00\",\n        \"num_unique_values\": 723,\n        \"samples\": [\n          \"2023-08-02 00:00:00\",\n          \"2024-05-02 00:00:00\",\n          \"2024-08-29 00:00:00\"\n        ],\n        \"semantic_type\": \"\",\n        \"description\": \"\"\n      }\n    },\n    {\n      \"column\": [\n        \"Close\",\n        \"TATASTEEL.NS\"\n      ],\n      \"properties\": {\n        \"dtype\": \"number\",\n        \"std\": 31.234705051903514,\n        \"min\": 41.856689453125,\n        \"max\": 179.94000244140625,\n        \"num_unique_values\": 629,\n        \"samples\": [\n          152.05999755859375,\n          108.90579223632812,\n          149.75\n        ],\n        \"semantic_type\": \"\",\n        \"description\": \"\"\n      }\n    },\n    {\n      \"column\": [\n        \"High\",\n        \"TATASTEEL.NS\"\n      ],\n      \"properties\": {\n        \"dtype\": \"number\",\n        \"std\": 31.595781628443184,\n        \"min\": 42.70272551995169,\n        \"max\": 180.95418910866522,\n        \"num_unique_values\": 714,\n        \"samples\": [\n          100.81222765167901,\n          114.19914513129692,\n          43.8800037148135\n        ],\n        \"semantic_type\": \"\",\n        \"description\": \"\"\n      }\n    },\n    {\n      \"column\": [\n        \"Low\",\n        \"TATASTEEL.NS\"\n      ],\n      \"properties\": {\n        \"dtype\": \"number\",\n        \"std\": 30.85837924559567,\n        \"min\": 41.586635945401724,\n        \"max\": 178.17999267578125,\n        \"num_unique_values\": 714,\n        \"samples\": [\n          98.72384087650636,\n          116.502735183092,\n          42.28076092542185\n        ],\n        \"semantic_type\": \"\",\n        \"description\": \"\"\n      }\n    },\n    {\n      \"column\": [\n        \"Open\",\n        \"TATASTEEL.NS\"\n      ],\n      \"properties\": {\n        \"dtype\": \"number\",\n        \"std\": 31.33216792988107,\n        \"min\": 41.70056473711107,\n        \"max\": 180.16998597362243,\n        \"num_unique_values\": 705,\n        \"samples\": [\n          151.84074756995335,\n          88.28190094166636,\n          85.9087285524704\n        ],\n        \"semantic_type\": \"\",\n        \"description\": \"\"\n      }\n    },\n    {\n      \"column\": [\n        \"Volume\",\n        \"TATASTEEL.NS\"\n      ],\n      \"properties\": {\n        \"dtype\": \"number\",\n        \"std\": 27429234,\n        \"min\": 5106804,\n        \"max\": 273883460,\n        \"num_unique_values\": 723,\n        \"samples\": [\n          54951586,\n          69320283,\n          44452983\n        ],\n        \"semantic_type\": \"\",\n        \"description\": \"\"\n      }\n    },\n    {\n      \"column\": [\n        \"EMA-50\",\n        \"\"\n      ],\n      \"properties\": {\n        \"dtype\": \"number\",\n        \"std\": 32.00805771000606,\n        \"min\": 48.75118597760527,\n        \"max\": 170.00819028776198,\n        \"num_unique_values\": 723,\n        \"samples\": [\n          110.9836861124794,\n          152.64446452215347,\n          159.89176516265988\n        ],\n        \"semantic_type\": \"\",\n        \"description\": \"\"\n      }\n    },\n    {\n      \"column\": [\n        \"EMA-200\",\n        \"\"\n      ],\n      \"properties\": {\n        \"dtype\": \"number\",\n        \"std\": 31.275188358886602,\n        \"min\": 54.08539496231862,\n        \"max\": 152.66958603825242,\n        \"num_unique_values\": 723,\n        \"samples\": [\n          102.63081945912089,\n          133.4981474384136,\n          150.6464300162311\n        ],\n        \"semantic_type\": \"\",\n        \"description\": \"\"\n      }\n    }\n  ]\n}"
            }
          },
          "metadata": {},
          "execution_count": 26
        }
      ]
    },
    {
      "cell_type": "code",
      "source": [
        "plt.figure(figsize = (8,6))\n",
        "plt.plot(data_train['Date'],data_train['EMA-50'],label = 'EWMA-50',color = 'orange')\n",
        "plt.plot(data_train['Date'],data_train['EMA-200'],label = 'EWMA-200',color = 'magenta')\n",
        "plt.plot(data_train['Date'],data_train['Open'],label = 'Open',color = 'green')\n",
        "plt.ylabel(\"Stock price in INR\")\n",
        "plt.xlabel(\"Date\")\n",
        "plt.title(f\"EWMA for Stockprice of {whichstock}\")\n",
        "plt.xticks(rotation=90)\n",
        "plt.legend();\n"
      ],
      "metadata": {
        "id": "QXQIc9Dtn1Dz"
      },
      "execution_count": null,
      "outputs": []
    },
    {
      "cell_type": "code",
      "source": [
        "# Change column names  for easy readability\n",
        "df_train = pd.DataFrame(data_train)"
      ],
      "metadata": {
        "id": "i1DwD5_0oc4F"
      },
      "execution_count": null,
      "outputs": []
    },
    {
      "cell_type": "code",
      "source": [
        "df_train.columns"
      ],
      "metadata": {
        "id": "g2tpr2lPomq9"
      },
      "execution_count": null,
      "outputs": []
    },
    {
      "cell_type": "code",
      "source": [
        "df_train = df_train.set_axis(['Date','Close','High','Low','Open','Volume','EMA-50','EMA-200'],axis = 1 )"
      ],
      "metadata": {
        "id": "nDDG3ZGeoz4N"
      },
      "execution_count": null,
      "outputs": []
    },
    {
      "cell_type": "code",
      "source": [
        "df_train.columns"
      ],
      "metadata": {
        "colab": {
          "base_uri": "https://localhost:8080/"
        },
        "id": "axir0ZYHpj5M",
        "outputId": "e0a9a8ac-37f3-4cd7-8a12-8bfddd17530a"
      },
      "execution_count": null,
      "outputs": [
        {
          "output_type": "execute_result",
          "data": {
            "text/plain": [
              "Index(['Date', 'Close', 'High', 'Low', 'Open', 'Volume', 'EMA-50', 'EMA-200'], dtype='object')"
            ]
          },
          "metadata": {},
          "execution_count": 35
        }
      ]
    },
    {
      "cell_type": "code",
      "source": [
        "# Change column names  for easy readability\n",
        "df_test = pd.DataFrame(data_test)\n",
        "df_test = df_test.set_axis(['Date','Close','High','Low','Open','Volume'],axis = 1 )"
      ],
      "metadata": {
        "id": "ZhjHFEXhpsYp"
      },
      "execution_count": null,
      "outputs": []
    },
    {
      "cell_type": "code",
      "source": [
        "df_test.columns"
      ],
      "metadata": {
        "colab": {
          "base_uri": "https://localhost:8080/"
        },
        "id": "sgb0TdvBqRYR",
        "outputId": "131a7e6d-eb37-4ffc-c3da-feb6cf6e0f6e"
      },
      "execution_count": null,
      "outputs": [
        {
          "output_type": "execute_result",
          "data": {
            "text/plain": [
              "Index(['Date', 'Close', 'High', 'Low', 'Open', 'Volume'], dtype='object')"
            ]
          },
          "metadata": {},
          "execution_count": 38
        }
      ]
    },
    {
      "cell_type": "code",
      "source": [
        "# SElect Open from the columns for training\n",
        "training_set = df_train.iloc[:,4:5]\n",
        "training_set[0:5]"
      ],
      "metadata": {
        "id": "QJf_kqYmp2oP"
      },
      "execution_count": null,
      "outputs": []
    },
    {
      "cell_type": "code",
      "source": [
        "# Data Preprocessing\n",
        "from sklearn.preprocessing import MinMaxScaler\n",
        "sc = MinMaxScaler(feature_range=(0,1))\n",
        "training_set_scaled = sc.fit_transform(training_set)"
      ],
      "metadata": {
        "id": "ZVl0KzwEqvdJ"
      },
      "execution_count": null,
      "outputs": []
    },
    {
      "cell_type": "code",
      "source": [
        "print(training_set_scaled[0:5])"
      ],
      "metadata": {
        "colab": {
          "base_uri": "https://localhost:8080/"
        },
        "id": "nUX6-FFjrLYr",
        "outputId": "6fe42d28-9d35-4e86-c72e-dd1c97b4361d"
      },
      "execution_count": null,
      "outputs": [
        {
          "output_type": "stream",
          "name": "stdout",
          "text": [
            "[[0.11173078]\n",
            " [0.10719023]\n",
            " [0.10840918]\n",
            " [0.10566659]\n",
            " [0.09743879]]\n"
          ]
        }
      ]
    },
    {
      "cell_type": "code",
      "source": [
        "# create input data with 60 timesteps and one output\n",
        "n_timesteps = 50\n",
        "X_train =[]\n",
        "Y_train =[]\n",
        "\n",
        "for i in range(n_timesteps, len(training_set_scaled)):\n",
        "      X_train.append(training_set_scaled[i-n_timesteps: i , 0])\n",
        "      Y_train.append(training_set_scaled[i,0])\n",
        "X_train, Y_train = np.array(X_train), np.array(Y_train)"
      ],
      "metadata": {
        "id": "89NRMZhbrYDz"
      },
      "execution_count": null,
      "outputs": []
    },
    {
      "cell_type": "code",
      "source": [
        "print(X_train[1:5,])"
      ],
      "metadata": {
        "id": "NnjfgVWRsvW6"
      },
      "execution_count": null,
      "outputs": []
    },
    {
      "cell_type": "code",
      "source": [
        "# Reshape X_train\n",
        "X_train = np.reshape(X_train, (X_train.shape[0],X_train.shape[1],1))\n",
        "X_train.shape"
      ],
      "metadata": {
        "colab": {
          "base_uri": "https://localhost:8080/"
        },
        "id": "1pslN02Ns05b",
        "outputId": "c7f0f1bd-28e1-47e9-c116-b573f6305d37"
      },
      "execution_count": null,
      "outputs": [
        {
          "output_type": "execute_result",
          "data": {
            "text/plain": [
              "(673, 50, 1)"
            ]
          },
          "metadata": {},
          "execution_count": 44
        }
      ]
    },
    {
      "cell_type": "code",
      "source": [
        "#Building of RNN\n",
        "from keras.models import Sequential\n",
        "from keras.layers import Dense\n",
        "from keras.layers import LSTM\n",
        "from keras.layers import Dropout"
      ],
      "metadata": {
        "id": "WNmBUbM0utcb"
      },
      "execution_count": null,
      "outputs": []
    },
    {
      "cell_type": "code",
      "source": [
        "n_units = 50\n",
        "n_drop = 0.2\n",
        "# initialize RNN\n",
        "regressor = Sequential()\n",
        "regressor.add(LSTM(units = n_units, return_sequences= True, input_shape = (X_train.shape[1],1)))\n",
        "regressor.add(Dropout(n_drop))\n",
        "regressor.add(LSTM(units = n_units, return_sequences= True))\n",
        "regressor.add(Dropout(n_drop))\n",
        "regressor.add(LSTM(units = n_units, return_sequences= True))\n",
        "regressor.add(Dropout(n_drop))\n",
        "regressor.add(LSTM(units = n_units, return_sequences= False))\n",
        "regressor.add(Dropout(n_drop))\n",
        "regressor.add(Dense(units = 1)) # output layer\n",
        "\n",
        "# Compile\n",
        "regressor.compile(optimizer='adam', loss='mean_squared_error')"
      ],
      "metadata": {
        "colab": {
          "base_uri": "https://localhost:8080/"
        },
        "id": "fUPxZHQPvA3h",
        "outputId": "f2d708f8-d98c-4394-91d9-e7055ad7de7d"
      },
      "execution_count": null,
      "outputs": [
        {
          "output_type": "stream",
          "name": "stderr",
          "text": [
            "/usr/local/lib/python3.11/dist-packages/keras/src/layers/rnn/rnn.py:200: UserWarning: Do not pass an `input_shape`/`input_dim` argument to a layer. When using Sequential models, prefer using an `Input(shape)` object as the first layer in the model instead.\n",
            "  super().__init__(**kwargs)\n"
          ]
        }
      ]
    },
    {
      "cell_type": "code",
      "source": [
        "# Fitting the training data\n",
        "regressor.fit(X_train, Y_train , epochs = 100 , batch_size = 60)"
      ],
      "metadata": {
        "id": "2WOAylaAvyx2"
      },
      "execution_count": null,
      "outputs": []
    },
    {
      "cell_type": "code",
      "source": [
        "# Making predictions and visulize results\n",
        "real_stock_price = df_test.iloc[:,4:5]\n",
        "df_total = pd.concat((df_train['Open'], df_test['Open']), axis = 0 )\n",
        "input = df_total[len(df_total)-len(df_test)-n_timesteps:].values"
      ],
      "metadata": {
        "id": "cjcAlxDsxIHo"
      },
      "execution_count": null,
      "outputs": []
    },
    {
      "cell_type": "code",
      "source": [
        "input = input.reshape(-1,1)"
      ],
      "metadata": {
        "id": "Rll7YBgyzdwo"
      },
      "execution_count": null,
      "outputs": []
    },
    {
      "cell_type": "code",
      "source": [
        "input = sc.transform(input)"
      ],
      "metadata": {
        "id": "bVOaOx3yz-4k"
      },
      "execution_count": null,
      "outputs": []
    },
    {
      "cell_type": "code",
      "source": [
        "X_test = []\n",
        "for i in range(n_timesteps , n_timesteps + len(df_test)):\n",
        "   X_test.append(input[i-n_timesteps: i, 0])"
      ],
      "metadata": {
        "id": "dKPDVbCo0B2p"
      },
      "execution_count": null,
      "outputs": []
    },
    {
      "cell_type": "code",
      "source": [
        "len(X_test)"
      ],
      "metadata": {
        "colab": {
          "base_uri": "https://localhost:8080/"
        },
        "id": "0HmZB8x70laC",
        "outputId": "dd9b4ee5-84b9-4de2-b2e1-c9b72b49dcb5"
      },
      "execution_count": null,
      "outputs": [
        {
          "output_type": "execute_result",
          "data": {
            "text/plain": [
              "18"
            ]
          },
          "metadata": {},
          "execution_count": 53
        }
      ]
    },
    {
      "cell_type": "code",
      "source": [
        "X_test = np.array(X_test)\n",
        "X_test = np.reshape(X_test,(X_test.shape[0],X_test.shape[1],1))"
      ],
      "metadata": {
        "id": "KjK9GxTu0oUx"
      },
      "execution_count": null,
      "outputs": []
    },
    {
      "cell_type": "code",
      "source": [
        "X_test.shape"
      ],
      "metadata": {
        "colab": {
          "base_uri": "https://localhost:8080/"
        },
        "id": "BwVkQwk61Nrf",
        "outputId": "5eba8f12-91bb-473d-c295-d16e5453eef9"
      },
      "execution_count": null,
      "outputs": [
        {
          "output_type": "execute_result",
          "data": {
            "text/plain": [
              "(18, 50, 1)"
            ]
          },
          "metadata": {},
          "execution_count": 56
        }
      ]
    },
    {
      "cell_type": "code",
      "source": [
        "predicted_stock_price = regressor.predict(X_test)"
      ],
      "metadata": {
        "colab": {
          "base_uri": "https://localhost:8080/"
        },
        "id": "J9KGRhx91Uxr",
        "outputId": "dc9a5db6-453d-4be8-b8e9-52add45df7cb"
      },
      "execution_count": null,
      "outputs": [
        {
          "output_type": "stream",
          "name": "stdout",
          "text": [
            "\u001b[1m1/1\u001b[0m \u001b[32m━━━━━━━━━━━━━━━━━━━━\u001b[0m\u001b[37m\u001b[0m \u001b[1m0s\u001b[0m 391ms/step\n"
          ]
        }
      ]
    },
    {
      "cell_type": "code",
      "source": [
        "predicted_stock_price = sc.inverse_transform(predicted_stock_price)"
      ],
      "metadata": {
        "id": "NE1-aJ1R1Zk1"
      },
      "execution_count": null,
      "outputs": []
    },
    {
      "cell_type": "code",
      "source": [
        "plt.figure(figsize = (8,6))\n",
        "plt.plot(real_stock_price,color = 'red', label = \"Observed stock price\")\n",
        "plt.plot(predicted_stock_price,label = \"Predicted Stock price \",color = 'blue')\n",
        "plt.ylabel(\"Stock price in INR\")\n",
        "plt.xlabel(\"Date\")\n",
        "plt.title(f\"Predicted vs Observed Stockprice of {whichstock}\")\n",
        "plt.xticks(rotation=90)\n",
        "plt.legend();\n"
      ],
      "metadata": {
        "id": "-eJTc8Qc1ivg"
      },
      "execution_count": null,
      "outputs": []
    },
    {
      "cell_type": "code",
      "source": [],
      "metadata": {
        "id": "ULX-RVud3H74"
      },
      "execution_count": null,
      "outputs": []
    }
  ]
}